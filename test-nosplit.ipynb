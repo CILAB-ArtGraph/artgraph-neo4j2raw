{
 "cells": [
  {
   "cell_type": "code",
   "execution_count": 1,
   "metadata": {},
   "outputs": [],
   "source": [
    "import json\n",
    "import os\n",
    "import copy\n",
    "import pandas as pd\n",
    "from raw_generation_nosplit import ArtGraphNoSplit\n",
    "from ArtGraphOGM import  ArtGraphDBConnector\n",
    "from sklearn.model_selection import train_test_split\n",
    "from dotenv import load_dotenv, find_dotenv"
   ]
  },
  {
   "cell_type": "code",
   "execution_count": 2,
   "metadata": {},
   "outputs": [
    {
     "data": {
      "text/plain": [
       "True"
      ]
     },
     "execution_count": 2,
     "metadata": {},
     "output_type": "execute_result"
    }
   ],
   "source": [
    "#get db credential from the .env file\n",
    "dotenv_path = find_dotenv()\n",
    "load_dotenv(dotenv_path)"
   ]
  },
  {
   "cell_type": "code",
   "execution_count": 3,
   "metadata": {},
   "outputs": [],
   "source": [
    "conf = {\n",
    "    'uri': os.environ.get(\"uri\"),\n",
    "    'username': os.environ.get(\"username\"),\n",
    "    'password': os.environ.get(\"password\"),\n",
    "    'database': os.environ.get(\"database\")\n",
    "}\n",
    "\n",
    "artgraph_flavor = 'artgraphf2_full'\n",
    "\n",
    "with open(f\"queries/{artgraph_flavor}/mapping-queries.json\") as f:\n",
    "  mapping_queries = json.load(f)\n",
    "\n",
    "with open(f\"queries/{artgraph_flavor}/relation-queries.json\") as f:\n",
    "  relation_queries = json.load(f)\n",
    "\n",
    "with open(f\"queries/{artgraph_flavor}/stat-queries.json\") as f:\n",
    "  stat_queries = json.load(f)\n",
    "\n",
    "queries = {\n",
    "    'mapping': mapping_queries,\n",
    "    'relations': relation_queries,\n",
    "    'stats': stat_queries\n",
    "}\n",
    "\n",
    "labels = [('artwork', 'author', 'artist'),\n",
    "          ('artwork', 'style', 'style'),\n",
    "          ('artwork', 'genre', 'genre')]"
   ]
  },
  {
   "cell_type": "code",
   "execution_count": 4,
   "metadata": {},
   "outputs": [],
   "source": [
    "agdb = ArtGraphDBConnector(conf['uri'], conf['username'], conf['password'], conf['database'])\n",
    "df_genre = agdb.df_from_query(mapping_queries['genre'])"
   ]
  },
  {
   "cell_type": "code",
   "execution_count": 5,
   "metadata": {},
   "outputs": [],
   "source": [
    "#get max N artwork for each genre\n",
    "N = 10000000\n",
    "artworks = []\n",
    "genres = []\n",
    "for genre in df_genre['name']:\n",
    "    query = f\"MATCH (a:Artwork)-[r:Genre]->(g:Genre) WHERE g.name = '{genre}' RETURN a.name as artwork, g.name as genre LIMIT {N}\"\n",
    "    df = agdb.df_from_query(query)\n",
    "    artworks = artworks + df['artwork'].tolist()\n",
    "    genres = genres + df['genre'].tolist()\n",
    "agdb.close()"
   ]
  },
  {
   "cell_type": "code",
   "execution_count": 6,
   "metadata": {},
   "outputs": [],
   "source": [
    "df_artwork_genre = pd.DataFrame.from_dict({'artwork': artworks, 'genre': genres})"
   ]
  },
  {
   "cell_type": "code",
   "execution_count": 7,
   "metadata": {},
   "outputs": [
    {
     "data": {
      "text/html": [
       "<div>\n",
       "<style scoped>\n",
       "    .dataframe tbody tr th:only-of-type {\n",
       "        vertical-align: middle;\n",
       "    }\n",
       "\n",
       "    .dataframe tbody tr th {\n",
       "        vertical-align: top;\n",
       "    }\n",
       "\n",
       "    .dataframe thead th {\n",
       "        text-align: right;\n",
       "    }\n",
       "</style>\n",
       "<table border=\"1\" class=\"dataframe\">\n",
       "  <thead>\n",
       "    <tr style=\"text-align: right;\">\n",
       "      <th></th>\n",
       "      <th>artwork</th>\n",
       "      <th>genre</th>\n",
       "    </tr>\n",
       "  </thead>\n",
       "  <tbody>\n",
       "    <tr>\n",
       "      <th>0</th>\n",
       "      <td>eugene-delacroix_female-nude-killed-from-behin...</td>\n",
       "      <td>nude painting (nu)</td>\n",
       "    </tr>\n",
       "    <tr>\n",
       "      <th>1</th>\n",
       "      <td>helene-de-beauvoir_untitled-8.jpg</td>\n",
       "      <td>nude painting (nu)</td>\n",
       "    </tr>\n",
       "    <tr>\n",
       "      <th>2</th>\n",
       "      <td>helene-de-beauvoir_untitled-4.jpg</td>\n",
       "      <td>nude painting (nu)</td>\n",
       "    </tr>\n",
       "    <tr>\n",
       "      <th>3</th>\n",
       "      <td>helene-de-beauvoir_untitled-3.jpg</td>\n",
       "      <td>nude painting (nu)</td>\n",
       "    </tr>\n",
       "    <tr>\n",
       "      <th>4</th>\n",
       "      <td>helene-de-beauvoir_untitled-2.jpg</td>\n",
       "      <td>nude painting (nu)</td>\n",
       "    </tr>\n",
       "    <tr>\n",
       "      <th>...</th>\n",
       "      <td>...</td>\n",
       "      <td>...</td>\n",
       "    </tr>\n",
       "    <tr>\n",
       "      <th>116470</th>\n",
       "      <td>paul-gauguin_port-de-javel-1876.jpg</td>\n",
       "      <td>cityscape</td>\n",
       "    </tr>\n",
       "    <tr>\n",
       "      <th>116471</th>\n",
       "      <td>paul-gauguin_port-de-javel-1876-1.jpg</td>\n",
       "      <td>cityscape</td>\n",
       "    </tr>\n",
       "    <tr>\n",
       "      <th>116472</th>\n",
       "      <td>paul-gauguin_rouen-at-spring-1884.jpg</td>\n",
       "      <td>cityscape</td>\n",
       "    </tr>\n",
       "    <tr>\n",
       "      <th>116473</th>\n",
       "      <td>paul-gauguin_rue-jouvenet-rouen-1884.jpg</td>\n",
       "      <td>cityscape</td>\n",
       "    </tr>\n",
       "    <tr>\n",
       "      <th>116474</th>\n",
       "      <td>paul-gauguin_schooner-and-three-masters-1886.jpg</td>\n",
       "      <td>cityscape</td>\n",
       "    </tr>\n",
       "  </tbody>\n",
       "</table>\n",
       "<p>116475 rows × 2 columns</p>\n",
       "</div>"
      ],
      "text/plain": [
       "                                                  artwork               genre\n",
       "0       eugene-delacroix_female-nude-killed-from-behin...  nude painting (nu)\n",
       "1                       helene-de-beauvoir_untitled-8.jpg  nude painting (nu)\n",
       "2                       helene-de-beauvoir_untitled-4.jpg  nude painting (nu)\n",
       "3                       helene-de-beauvoir_untitled-3.jpg  nude painting (nu)\n",
       "4                       helene-de-beauvoir_untitled-2.jpg  nude painting (nu)\n",
       "...                                                   ...                 ...\n",
       "116470                paul-gauguin_port-de-javel-1876.jpg           cityscape\n",
       "116471              paul-gauguin_port-de-javel-1876-1.jpg           cityscape\n",
       "116472              paul-gauguin_rouen-at-spring-1884.jpg           cityscape\n",
       "116473           paul-gauguin_rue-jouvenet-rouen-1884.jpg           cityscape\n",
       "116474   paul-gauguin_schooner-and-three-masters-1886.jpg           cityscape\n",
       "\n",
       "[116475 rows x 2 columns]"
      ]
     },
     "execution_count": 7,
     "metadata": {},
     "output_type": "execute_result"
    }
   ],
   "source": [
    "df_artwork_genre"
   ]
  },
  {
   "cell_type": "code",
   "execution_count": 8,
   "metadata": {},
   "outputs": [],
   "source": [
    "def get_split(df_artwork_genre, label_column_name):\n",
    "    train, drop = train_test_split(df_artwork_genre, test_size=0.3, random_state=42, stratify=df_artwork_genre[label_column_name])\n",
    "    valid, test = train_test_split(drop, test_size=0.5, random_state=42, stratify=drop[label_column_name])\n",
    "    return train['artwork'].tolist(), valid['artwork'].tolist(), test['artwork'].tolist()"
   ]
  },
  {
   "cell_type": "code",
   "execution_count": 9,
   "metadata": {},
   "outputs": [],
   "source": [
    "train_artworks, val_artworks, test_artworks = get_split(df_artwork_genre, 'genre')"
   ]
  },
  {
   "cell_type": "code",
   "execution_count": 10,
   "metadata": {},
   "outputs": [
    {
     "name": "stdout",
     "output_type": "stream",
     "text": [
      "Getting mapping...\n",
      "Getting relations...\n"
     ]
    },
    {
     "name": "stderr",
     "output_type": "stream",
     "text": [
      "INFO:root:Saving on the disk all nodes\n",
      "INFO:root:Saving on the disk node mapping artwork in path artgraphf2_train/mapping/artwork_entidx2name.csv\n",
      "INFO:root:Saving on the disk node mapping artist in path artgraphf2_train/mapping/artist_entidx2name.csv\n",
      "INFO:root:Saving on the disk node mapping style in path artgraphf2_train/mapping/style_entidx2name.csv\n",
      "INFO:root:Saving on the disk node mapping genre in path artgraphf2_train/mapping/genre_entidx2name.csv\n",
      "INFO:root:Saving on the disk node mapping tag in path artgraphf2_train/mapping/tag_entidx2name.csv\n",
      "INFO:root:Saving on the disk node mapping media in path artgraphf2_train/mapping/media_entidx2name.csv\n",
      "INFO:root:Saving on the disk node mapping movement in path artgraphf2_train/mapping/movement_entidx2name.csv\n",
      "INFO:root:Saving on the disk node mapping field in path artgraphf2_train/mapping/field_entidx2name.csv\n",
      "INFO:root:Saving on the disk node mapping gallery in path artgraphf2_train/mapping/gallery_entidx2name.csv\n",
      "INFO:root:Saving on the disk node mapping city in path artgraphf2_train/mapping/city_entidx2name.csv\n"
     ]
    },
    {
     "name": "stdout",
     "output_type": "stream",
     "text": [
      "Getting labels\n",
      "Writing mapping...\n"
     ]
    },
    {
     "name": "stderr",
     "output_type": "stream",
     "text": [
      "INFO:root:Saving on the disk node mapping subject in path artgraphf2_train/mapping/subject_entidx2name.csv\n",
      "INFO:root:Saving on the disk node mapping training in path artgraphf2_train/mapping/training_entidx2name.csv\n",
      "INFO:root:Saving on the disk node mapping people in path artgraphf2_train/mapping/people_entidx2name.csv\n",
      "INFO:root:Saving on the disk node mapping serie in path artgraphf2_train/mapping/serie_entidx2name.csv\n",
      "INFO:root:Saving on the disk node mapping country in path artgraphf2_train/mapping/country_entidx2name.csv\n",
      "INFO:root:Saving on the disk node mapping period in path artgraphf2_train/mapping/period_entidx2name.csv\n",
      "INFO:root:Saving on the disk node mapping rel in path artgraphf2_train/mapping/rel_entidx2name.csv\n",
      "INFO:root:Saving on the disk all relations\n",
      "INFO:root:Saving on the disk relation media in path artgraphf2_train/raw/relations/artwork___media___media\n",
      "INFO:root:Saving on the disk relation about in path artgraphf2_train/raw/relations/artwork___about___tag\n",
      "INFO:root:Saving on the disk relation genre in path artgraphf2_train/raw/relations/artwork___genre___genre\n",
      "INFO:root:Saving on the disk relation style in path artgraphf2_train/raw/relations/artwork___style___style\n",
      "INFO:root:Saving on the disk relation author in path artgraphf2_train/raw/relations/artwork___author___artist\n",
      "INFO:root:Saving on the disk relation movement in path artgraphf2_train/raw/relations/artist___movement___movement\n",
      "INFO:root:Saving on the disk relation field in path artgraphf2_train/raw/relations/artist___field___field\n",
      "INFO:root:Saving on the disk relation teacher in path artgraphf2_train/raw/relations/artist___teacher___artist\n",
      "INFO:root:Saving on the disk relation subject in path artgraphf2_train/raw/relations/artist___subject___subject\n",
      "INFO:root:Saving on the disk relation training in path artgraphf2_train/raw/relations/artist___training___training\n",
      "INFO:root:Saving on the disk relation patrons in path artgraphf2_train/raw/relations/artist___patrons___people\n",
      "INFO:root:Saving on the disk relation serie in path artgraphf2_train/raw/relations/artwork___serie___serie\n",
      "INFO:root:Saving on the disk relation completedin in path artgraphf2_train/raw/relations/artwork___completedin___country\n",
      "INFO:root:Saving on the disk relation completedin in path artgraphf2_train/raw/relations/artwork___completedin___city\n",
      "INFO:root:Saving on the disk relation period in path artgraphf2_train/raw/relations/artwork___period___period\n",
      "INFO:root:Saving on the disk relation country in path artgraphf2_train/raw/relations/gallery___country___country\n",
      "INFO:root:Saving on the disk relation city in path artgraphf2_train/raw/relations/gallery___city___city\n",
      "INFO:root:Saving on the disk relation country in path artgraphf2_train/raw/relations/city___country___country\n",
      "INFO:root:Saving on the disk relation locatedin in path artgraphf2_train/raw/relations/artwork___locatedin___gallery\n"
     ]
    },
    {
     "name": "stdout",
     "output_type": "stream",
     "text": [
      "Writing labels...\n",
      "Writing info...\n",
      "Getting mapping...\n",
      "Getting relations...\n"
     ]
    },
    {
     "name": "stderr",
     "output_type": "stream",
     "text": [
      "INFO:root:Saving on the disk all nodes\n",
      "INFO:root:Saving on the disk node mapping artwork in path artgraphf2_valid/mapping/artwork_entidx2name.csv\n",
      "INFO:root:Saving on the disk node mapping artist in path artgraphf2_valid/mapping/artist_entidx2name.csv\n",
      "INFO:root:Saving on the disk node mapping style in path artgraphf2_valid/mapping/style_entidx2name.csv\n",
      "INFO:root:Saving on the disk node mapping genre in path artgraphf2_valid/mapping/genre_entidx2name.csv\n",
      "INFO:root:Saving on the disk node mapping tag in path artgraphf2_valid/mapping/tag_entidx2name.csv\n",
      "INFO:root:Saving on the disk node mapping media in path artgraphf2_valid/mapping/media_entidx2name.csv\n",
      "INFO:root:Saving on the disk node mapping movement in path artgraphf2_valid/mapping/movement_entidx2name.csv\n",
      "INFO:root:Saving on the disk node mapping field in path artgraphf2_valid/mapping/field_entidx2name.csv\n",
      "INFO:root:Saving on the disk node mapping gallery in path artgraphf2_valid/mapping/gallery_entidx2name.csv\n",
      "INFO:root:Saving on the disk node mapping city in path artgraphf2_valid/mapping/city_entidx2name.csv\n",
      "INFO:root:Saving on the disk node mapping subject in path artgraphf2_valid/mapping/subject_entidx2name.csv\n",
      "INFO:root:Saving on the disk node mapping training in path artgraphf2_valid/mapping/training_entidx2name.csv\n",
      "INFO:root:Saving on the disk node mapping people in path artgraphf2_valid/mapping/people_entidx2name.csv\n",
      "INFO:root:Saving on the disk node mapping serie in path artgraphf2_valid/mapping/serie_entidx2name.csv\n",
      "INFO:root:Saving on the disk node mapping country in path artgraphf2_valid/mapping/country_entidx2name.csv\n",
      "INFO:root:Saving on the disk node mapping period in path artgraphf2_valid/mapping/period_entidx2name.csv\n",
      "INFO:root:Saving on the disk node mapping rel in path artgraphf2_valid/mapping/rel_entidx2name.csv\n",
      "INFO:root:Saving on the disk all relations\n",
      "INFO:root:Saving on the disk relation media in path artgraphf2_valid/raw/relations/artwork___media___media\n",
      "INFO:root:Saving on the disk relation about in path artgraphf2_valid/raw/relations/artwork___about___tag\n"
     ]
    },
    {
     "name": "stdout",
     "output_type": "stream",
     "text": [
      "Getting labels\n",
      "Writing mapping...\n"
     ]
    },
    {
     "name": "stderr",
     "output_type": "stream",
     "text": [
      "INFO:root:Saving on the disk relation genre in path artgraphf2_valid/raw/relations/artwork___genre___genre\n",
      "INFO:root:Saving on the disk relation style in path artgraphf2_valid/raw/relations/artwork___style___style\n",
      "INFO:root:Saving on the disk relation author in path artgraphf2_valid/raw/relations/artwork___author___artist\n",
      "INFO:root:Saving on the disk relation movement in path artgraphf2_valid/raw/relations/artist___movement___movement\n",
      "INFO:root:Saving on the disk relation field in path artgraphf2_valid/raw/relations/artist___field___field\n",
      "INFO:root:Saving on the disk relation teacher in path artgraphf2_valid/raw/relations/artist___teacher___artist\n",
      "INFO:root:Saving on the disk relation subject in path artgraphf2_valid/raw/relations/artist___subject___subject\n",
      "INFO:root:Saving on the disk relation training in path artgraphf2_valid/raw/relations/artist___training___training\n",
      "INFO:root:Saving on the disk relation patrons in path artgraphf2_valid/raw/relations/artist___patrons___people\n",
      "INFO:root:Saving on the disk relation serie in path artgraphf2_valid/raw/relations/artwork___serie___serie\n",
      "INFO:root:Saving on the disk relation completedin in path artgraphf2_valid/raw/relations/artwork___completedin___country\n",
      "INFO:root:Saving on the disk relation completedin in path artgraphf2_valid/raw/relations/artwork___completedin___city\n",
      "INFO:root:Saving on the disk relation period in path artgraphf2_valid/raw/relations/artwork___period___period\n",
      "INFO:root:Saving on the disk relation country in path artgraphf2_valid/raw/relations/gallery___country___country\n",
      "INFO:root:Saving on the disk relation city in path artgraphf2_valid/raw/relations/gallery___city___city\n",
      "INFO:root:Saving on the disk relation country in path artgraphf2_valid/raw/relations/city___country___country\n",
      "INFO:root:Saving on the disk relation locatedin in path artgraphf2_valid/raw/relations/artwork___locatedin___gallery\n"
     ]
    },
    {
     "name": "stdout",
     "output_type": "stream",
     "text": [
      "Writing labels...\n",
      "Writing info...\n",
      "Getting mapping...\n",
      "Getting relations...\n"
     ]
    },
    {
     "name": "stderr",
     "output_type": "stream",
     "text": [
      "INFO:root:Saving on the disk all nodes\n",
      "INFO:root:Saving on the disk node mapping artwork in path artgraphf2_test/mapping/artwork_entidx2name.csv\n",
      "INFO:root:Saving on the disk node mapping artist in path artgraphf2_test/mapping/artist_entidx2name.csv\n",
      "INFO:root:Saving on the disk node mapping style in path artgraphf2_test/mapping/style_entidx2name.csv\n",
      "INFO:root:Saving on the disk node mapping genre in path artgraphf2_test/mapping/genre_entidx2name.csv\n",
      "INFO:root:Saving on the disk node mapping tag in path artgraphf2_test/mapping/tag_entidx2name.csv\n",
      "INFO:root:Saving on the disk node mapping media in path artgraphf2_test/mapping/media_entidx2name.csv\n",
      "INFO:root:Saving on the disk node mapping movement in path artgraphf2_test/mapping/movement_entidx2name.csv\n",
      "INFO:root:Saving on the disk node mapping field in path artgraphf2_test/mapping/field_entidx2name.csv\n",
      "INFO:root:Saving on the disk node mapping gallery in path artgraphf2_test/mapping/gallery_entidx2name.csv\n",
      "INFO:root:Saving on the disk node mapping city in path artgraphf2_test/mapping/city_entidx2name.csv\n",
      "INFO:root:Saving on the disk node mapping subject in path artgraphf2_test/mapping/subject_entidx2name.csv\n",
      "INFO:root:Saving on the disk node mapping training in path artgraphf2_test/mapping/training_entidx2name.csv\n",
      "INFO:root:Saving on the disk node mapping people in path artgraphf2_test/mapping/people_entidx2name.csv\n",
      "INFO:root:Saving on the disk node mapping serie in path artgraphf2_test/mapping/serie_entidx2name.csv\n",
      "INFO:root:Saving on the disk node mapping country in path artgraphf2_test/mapping/country_entidx2name.csv\n",
      "INFO:root:Saving on the disk node mapping period in path artgraphf2_test/mapping/period_entidx2name.csv\n",
      "INFO:root:Saving on the disk node mapping rel in path artgraphf2_test/mapping/rel_entidx2name.csv\n",
      "INFO:root:Saving on the disk all relations\n",
      "INFO:root:Saving on the disk relation media in path artgraphf2_test/raw/relations/artwork___media___media\n",
      "INFO:root:Saving on the disk relation about in path artgraphf2_test/raw/relations/artwork___about___tag\n"
     ]
    },
    {
     "name": "stdout",
     "output_type": "stream",
     "text": [
      "Getting labels\n",
      "Writing mapping...\n"
     ]
    },
    {
     "name": "stderr",
     "output_type": "stream",
     "text": [
      "INFO:root:Saving on the disk relation genre in path artgraphf2_test/raw/relations/artwork___genre___genre\n",
      "INFO:root:Saving on the disk relation style in path artgraphf2_test/raw/relations/artwork___style___style\n",
      "INFO:root:Saving on the disk relation author in path artgraphf2_test/raw/relations/artwork___author___artist\n",
      "INFO:root:Saving on the disk relation movement in path artgraphf2_test/raw/relations/artist___movement___movement\n",
      "INFO:root:Saving on the disk relation field in path artgraphf2_test/raw/relations/artist___field___field\n",
      "INFO:root:Saving on the disk relation teacher in path artgraphf2_test/raw/relations/artist___teacher___artist\n",
      "INFO:root:Saving on the disk relation subject in path artgraphf2_test/raw/relations/artist___subject___subject\n",
      "INFO:root:Saving on the disk relation training in path artgraphf2_test/raw/relations/artist___training___training\n",
      "INFO:root:Saving on the disk relation patrons in path artgraphf2_test/raw/relations/artist___patrons___people\n",
      "INFO:root:Saving on the disk relation serie in path artgraphf2_test/raw/relations/artwork___serie___serie\n",
      "INFO:root:Saving on the disk relation completedin in path artgraphf2_test/raw/relations/artwork___completedin___country\n",
      "INFO:root:Saving on the disk relation completedin in path artgraphf2_test/raw/relations/artwork___completedin___city\n",
      "INFO:root:Saving on the disk relation period in path artgraphf2_test/raw/relations/artwork___period___period\n",
      "INFO:root:Saving on the disk relation country in path artgraphf2_test/raw/relations/gallery___country___country\n",
      "INFO:root:Saving on the disk relation city in path artgraphf2_test/raw/relations/gallery___city___city\n",
      "INFO:root:Saving on the disk relation country in path artgraphf2_test/raw/relations/city___country___country\n",
      "INFO:root:Saving on the disk relation locatedin in path artgraphf2_test/raw/relations/artwork___locatedin___gallery\n"
     ]
    },
    {
     "name": "stdout",
     "output_type": "stream",
     "text": [
      "Writing labels...\n",
      "Writing info...\n"
     ]
    }
   ],
   "source": [
    "artgraph = ArtGraphNoSplit(root='artgraphf2_train', conf=conf, queries=queries, labels=labels, artwork_subset=train_artworks)\n",
    "artgraph.build()\n",
    "artgraph.write()\n",
    "artgraph = ArtGraphNoSplit(root='artgraphf2_valid', conf=conf, queries=queries, labels=labels, artwork_subset=val_artworks)\n",
    "artgraph.build()\n",
    "artgraph.write()\n",
    "artgraph = ArtGraphNoSplit(root='artgraphf2_test', conf=conf, queries=queries, labels=labels, artwork_subset=test_artworks)\n",
    "artgraph.build()\n",
    "artgraph.write()\n"
   ]
  },
  {
   "cell_type": "code",
   "execution_count": null,
   "metadata": {},
   "outputs": [],
   "source": []
  }
 ],
 "metadata": {
  "interpreter": {
   "hash": "0294406dd162f839e3e9b49f7c7ed29389332059d61fed4daefa8cf3ba82309c"
  },
  "kernelspec": {
   "display_name": "Python 3.9.7 64-bit ('artgraph': conda)",
   "language": "python",
   "name": "python3"
  },
  "language_info": {
   "codemirror_mode": {
    "name": "ipython",
    "version": 3
   },
   "file_extension": ".py",
   "mimetype": "text/x-python",
   "name": "python",
   "nbconvert_exporter": "python",
   "pygments_lexer": "ipython3",
   "version": "3.9.7"
  },
  "orig_nbformat": 4
 },
 "nbformat": 4,
 "nbformat_minor": 2
}
