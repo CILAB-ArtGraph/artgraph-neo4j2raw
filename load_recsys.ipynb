{
 "cells": [
  {
   "cell_type": "code",
   "execution_count": 1,
   "outputs": [],
   "source": [
    "from load_dataset.artgraph import ArtGraph"
   ],
   "metadata": {
    "collapsed": false
   }
  },
  {
   "cell_type": "code",
   "execution_count": 2,
   "outputs": [
    {
     "name": "stderr",
     "output_type": "stream",
     "text": [
      "Processing...\n",
      "Done!\n"
     ]
    }
   ],
   "source": [
    "artgraph = ArtGraph(root='artgraph2recsys', features=None, preprocess='constant')"
   ],
   "metadata": {
    "collapsed": false
   }
  },
  {
   "cell_type": "code",
   "execution_count": 3,
   "outputs": [
    {
     "data": {
      "text/plain": "HeteroData(\n  \u001B[1martwork\u001B[0m={ num_nodes=116475 },\n  \u001B[1martist\u001B[0m={ x=[2501, 1] },\n  \u001B[1mgallery\u001B[0m={ x=[1099, 1] },\n  \u001B[1mcity\u001B[0m={ x=[596, 1] },\n  \u001B[1mcountry\u001B[0m={ x=[58, 1] },\n  \u001B[1mstyle\u001B[0m={ x=[32, 1] },\n  \u001B[1mperiod\u001B[0m={ x=[186, 1] },\n  \u001B[1mgenre\u001B[0m={ x=[18, 1] },\n  \u001B[1mserie\u001B[0m={ x=[823, 1] },\n  \u001B[1mtag\u001B[0m={ x=[5424, 1] },\n  \u001B[1mmedia\u001B[0m={ x=[167, 1] },\n  \u001B[1msubject\u001B[0m={ x=[6985, 1] },\n  \u001B[1mtraining_node\u001B[0m={ x=[268, 1] },\n  \u001B[1mfield\u001B[0m={ x=[54, 1] },\n  \u001B[1mmovement\u001B[0m={ x=[243, 1] },\n  \u001B[1mpeople\u001B[0m={ x=[109, 1] },\n  \u001B[1memotion\u001B[0m={ x=[9, 1] },\n  \u001B[1m(artwork, elicits, emotion)\u001B[0m={ edge_index=[2, 65236] },\n  \u001B[1m(artwork, hasperiod, period)\u001B[0m={ edge_index=[2, 5748] },\n  \u001B[1m(artwork, locatedin, gallery)\u001B[0m={ edge_index=[2, 19504] },\n  \u001B[1m(artist, belongstomovement, movement)\u001B[0m={ edge_index=[2, 1056] },\n  \u001B[1m(artwork, createdby, artist)\u001B[0m={ edge_index=[2, 116475] },\n  \u001B[1m(artwork, partof, serie)\u001B[0m={ edge_index=[2, 8322] },\n  \u001B[1m(artist, hassubject, subject)\u001B[0m={ edge_index=[2, 21054] },\n  \u001B[1m(artist, haspatron, people)\u001B[0m={ edge_index=[2, 124] },\n  \u001B[1m(artist, relatedtoschool, training_node)\u001B[0m={ edge_index=[2, 498] },\n  \u001B[1m(artwork, hasstyle, style)\u001B[0m={ edge_index=[2, 116475] },\n  \u001B[1m(artwork, locatedin, city)\u001B[0m={ edge_index=[2, 19532] },\n  \u001B[1m(gallery, incountry, country)\u001B[0m={ edge_index=[2, 1105] },\n  \u001B[1m(user, rates, artwork)\u001B[0m={\n    edge_index=[2, 6],\n    edge_weight=[6]\n  },\n  \u001B[1m(artwork, madeof, media)\u001B[0m={ edge_index=[2, 83824] },\n  \u001B[1m(artist, belongstofield, field)\u001B[0m={ edge_index=[2, 987] },\n  \u001B[1m(gallery, incity, city)\u001B[0m={ edge_index=[2, 1109] },\n  \u001B[1m(artwork, about, tag)\u001B[0m={ edge_index=[2, 342982] },\n  \u001B[1m(artwork, hasgenre, genre)\u001B[0m={ edge_index=[2, 116475] },\n  \u001B[1m(artist, trainedby, artist)\u001B[0m={ edge_index=[2, 47] },\n  \u001B[1m(artwork, locatedin, country)\u001B[0m={ edge_index=[2, 19488] },\n  \u001B[1m(city, incountry, country)\u001B[0m={ edge_index=[2, 608] }\n)"
     },
     "execution_count": 3,
     "metadata": {},
     "output_type": "execute_result"
    }
   ],
   "source": [
    "artgraph[0]"
   ],
   "metadata": {
    "collapsed": false
   }
  },
  {
   "cell_type": "code",
   "execution_count": 4,
   "outputs": [
    {
     "data": {
      "text/plain": "{'edge_index': tensor([[    0,     1,     1,     1,     1,     1],\n        [26396,   417, 97168,   416,   415, 97167]]), 'edge_weight': tensor([1, 1, 1, 1, 1, 1])}"
     },
     "execution_count": 4,
     "metadata": {},
     "output_type": "execute_result"
    }
   ],
   "source": [
    "data = artgraph[0]\n",
    "data['user', 'artwork']"
   ],
   "metadata": {
    "collapsed": false
   }
  },
  {
   "cell_type": "code",
   "execution_count": 4,
   "outputs": [],
   "source": [],
   "metadata": {
    "collapsed": false
   }
  }
 ],
 "metadata": {
  "kernelspec": {
   "display_name": "Python 3",
   "language": "python",
   "name": "python3"
  },
  "language_info": {
   "codemirror_mode": {
    "name": "ipython",
    "version": 2
   },
   "file_extension": ".py",
   "mimetype": "text/x-python",
   "name": "python",
   "nbconvert_exporter": "python",
   "pygments_lexer": "ipython2",
   "version": "2.7.6"
  }
 },
 "nbformat": 4,
 "nbformat_minor": 0
}
