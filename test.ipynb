{
 "cells": [
  {
   "cell_type": "code",
   "execution_count": 3,
   "metadata": {},
   "outputs": [],
   "source": [
    "import json\n",
    "import os\n",
    "import copy\n",
    "import pandas as pd\n",
    "from raw_generation import ArtGraphWithSplit\n",
    "from sklearn.model_selection import train_test_split\n",
    "from dotenv import load_dotenv, find_dotenv"
   ]
  },
  {
   "cell_type": "code",
   "execution_count": 4,
   "metadata": {},
   "outputs": [
    {
     "data": {
      "text/plain": [
       "True"
      ]
     },
     "execution_count": 4,
     "metadata": {},
     "output_type": "execute_result"
    }
   ],
   "source": [
    "#get db credentials from the .env file\n",
    "dotenv_path = find_dotenv()\n",
    "load_dotenv(dotenv_path)"
   ]
  },
  {
   "cell_type": "code",
   "execution_count": 6,
   "metadata": {},
   "outputs": [],
   "source": [
    "conf = {\n",
    "    'uri': os.environ.get(\"uri\"),\n",
    "    'username': os.environ.get(\"username\"),\n",
    "    'password': os.environ.get(\"password\"),\n",
    "    'database': os.environ.get(\"database\")\n",
    "}\n",
    "\n",
    "artgraph_flavor = 'artgraphf2_full'\n",
    "\n",
    "with open(f\"queries/{artgraph_flavor}/mapping-queries.json\") as f:\n",
    "  mapping_queries = json.load(f)\n",
    "\n",
    "with open(f\"queries/{artgraph_flavor}/relation-queries.json\") as f:\n",
    "  relation_queries = json.load(f)\n",
    "\n",
    "with open(f\"queries/{artgraph_flavor}/stat-queries.json\") as f:\n",
    "  stat_queries = json.load(f)\n",
    "\n",
    "queries = {\n",
    "    'mapping': mapping_queries,\n",
    "    'relations': relation_queries,\n",
    "    'stats': stat_queries\n",
    "}\n",
    "\n",
    "labels = [('artwork', 'author', 'artist'),\n",
    "          ('artwork', 'style', 'style'),\n",
    "          ('artwork', 'genre', 'genre')]"
   ]
  },
  {
   "cell_type": "code",
   "execution_count": 7,
   "metadata": {},
   "outputs": [],
   "source": [
    "split_paths = {\n",
    "  'train': os.path.join(\"split\", \"train.csv\"),\n",
    "  'valid':os.path.join(\"split\", \"valid.csv\"),\n",
    "  'test':os.path.join(\"split\", \"test.csv\")\n",
    "}"
   ]
  },
  {
   "cell_type": "code",
   "execution_count": 8,
   "metadata": {},
   "outputs": [
    {
     "name": "stdout",
     "output_type": "stream",
     "text": [
      "Getting mapping...\n",
      "Getting split...\n",
      "Getting relations...\n"
     ]
    },
    {
     "name": "stderr",
     "output_type": "stream",
     "text": [
      "INFO:root:Saving on the disk all nodes\n",
      "INFO:root:Saving on the disk node mapping artwork in path yola/mapping/artwork_entidx2name.csv\n"
     ]
    },
    {
     "name": "stdout",
     "output_type": "stream",
     "text": [
      "Getting labels\n",
      "Writing mapping...\n"
     ]
    },
    {
     "name": "stderr",
     "output_type": "stream",
     "text": [
      "INFO:root:Saving on the disk node mapping artist in path yola/mapping/artist_entidx2name.csv\n",
      "INFO:root:Saving on the disk node mapping style in path yola/mapping/style_entidx2name.csv\n",
      "INFO:root:Saving on the disk node mapping genre in path yola/mapping/genre_entidx2name.csv\n",
      "INFO:root:Saving on the disk node mapping tag in path yola/mapping/tag_entidx2name.csv\n",
      "INFO:root:Saving on the disk node mapping media in path yola/mapping/media_entidx2name.csv\n",
      "INFO:root:Saving on the disk node mapping movement in path yola/mapping/movement_entidx2name.csv\n",
      "INFO:root:Saving on the disk node mapping field in path yola/mapping/field_entidx2name.csv\n",
      "INFO:root:Saving on the disk node mapping gallery in path yola/mapping/gallery_entidx2name.csv\n",
      "INFO:root:Saving on the disk node mapping city in path yola/mapping/city_entidx2name.csv\n",
      "INFO:root:Saving on the disk node mapping subject in path yola/mapping/subject_entidx2name.csv\n",
      "INFO:root:Saving on the disk node mapping training in path yola/mapping/training_entidx2name.csv\n",
      "INFO:root:Saving on the disk node mapping people in path yola/mapping/people_entidx2name.csv\n",
      "INFO:root:Saving on the disk node mapping serie in path yola/mapping/serie_entidx2name.csv\n",
      "INFO:root:Saving on the disk node mapping country in path yola/mapping/country_entidx2name.csv\n",
      "INFO:root:Saving on the disk node mapping period in path yola/mapping/period_entidx2name.csv\n",
      "INFO:root:Saving on the disk node mapping rel in path yola/mapping/rel_entidx2name.csv\n",
      "INFO:root:Saving on the disk all relations\n",
      "INFO:root:Saving on the disk relation media in path yola/raw/relations/artwork___media___media\n",
      "INFO:root:Saving on the disk relation about in path yola/raw/relations/artwork___about___tag\n",
      "INFO:root:Saving on the disk relation genre in path yola/raw/relations/artwork___genre___genre\n",
      "INFO:root:Saving on the disk relation style in path yola/raw/relations/artwork___style___style\n",
      "INFO:root:Saving on the disk relation author in path yola/raw/relations/artwork___author___artist\n",
      "INFO:root:Saving on the disk relation movement in path yola/raw/relations/artist___movement___movement\n",
      "INFO:root:Saving on the disk relation field in path yola/raw/relations/artist___field___field\n",
      "INFO:root:Saving on the disk relation teacher in path yola/raw/relations/artist___teacher___artist\n",
      "INFO:root:Saving on the disk relation subject in path yola/raw/relations/artist___subject___subject\n",
      "INFO:root:Saving on the disk relation training in path yola/raw/relations/artist___training___training\n",
      "INFO:root:Saving on the disk relation patrons in path yola/raw/relations/artist___patrons___people\n",
      "INFO:root:Saving on the disk relation serie in path yola/raw/relations/artwork___serie___serie\n",
      "INFO:root:Saving on the disk relation completedin in path yola/raw/relations/artwork___completedin___country\n",
      "INFO:root:Saving on the disk relation completedin in path yola/raw/relations/artwork___completedin___city\n",
      "INFO:root:Saving on the disk relation period in path yola/raw/relations/artwork___period___period\n",
      "INFO:root:Saving on the disk relation country in path yola/raw/relations/gallery___country___country\n",
      "INFO:root:Saving on the disk relation city in path yola/raw/relations/gallery___city___city\n",
      "INFO:root:Saving on the disk relation country in path yola/raw/relations/city___country___country\n",
      "INFO:root:Saving on the disk relation locatedin in path yola/raw/relations/artwork___locatedin___gallery\n"
     ]
    },
    {
     "name": "stdout",
     "output_type": "stream",
     "text": [
      "Writing labels...\n"
     ]
    },
    {
     "name": "stderr",
     "output_type": "stream",
     "text": [
      "INFO:root:Saving on the disk node mapping train in path yola/raw/split/artwork/train.csv\n",
      "INFO:root:Saving on the disk node mapping test in path yola/raw/split/artwork/test.csv\n",
      "INFO:root:Saving on the disk node mapping valid in path yola/raw/split/artwork/valid.csv\n"
     ]
    },
    {
     "name": "stdout",
     "output_type": "stream",
     "text": [
      "Writing info...\n",
      "Writing split...\n"
     ]
    }
   ],
   "source": [
    "#custom split\n",
    "artgraph = ArtGraphWithSplit(root='artgraph_trans', conf=conf, queries=queries, labels=labels, split_paths=split_paths)\n",
    "artgraph.build()\n",
    "artgraph.write()"
   ]
  },
  {
   "cell_type": "code",
   "execution_count": null,
   "metadata": {},
   "outputs": [],
   "source": [
    "#random split\n",
    "artgraph = ArtGraphWithSplit(root='artgraph-full', conf=conf, queries=queries, labels=labels)\n",
    "artgraph.build()\n",
    "artgraph.write()"
   ]
  },
  {
   "cell_type": "code",
   "execution_count": null,
   "metadata": {},
   "outputs": [],
   "source": []
  }
 ],
 "metadata": {
  "interpreter": {
   "hash": "b4cd95a69bfd7a84355187b639ae3e32d243eaa398007ea827fe1dce7201cea5"
  },
  "kernelspec": {
   "display_name": "Python 3.9.7 64-bit ('thesis-project': conda)",
   "name": "python3"
  },
  "language_info": {
   "codemirror_mode": {
    "name": "ipython",
    "version": 3
   },
   "file_extension": ".py",
   "mimetype": "text/x-python",
   "name": "python",
   "nbconvert_exporter": "python",
   "pygments_lexer": "ipython3",
   "version": "3.9.7"
  },
  "orig_nbformat": 4
 },
 "nbformat": 4,
 "nbformat_minor": 2
}
