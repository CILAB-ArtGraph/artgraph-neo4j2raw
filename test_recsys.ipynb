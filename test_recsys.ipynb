{
 "cells": [
  {
   "cell_type": "code",
   "execution_count": 1,
   "metadata": {
    "collapsed": true
   },
   "outputs": [],
   "source": [
    "import pandas as pd\n",
    "import numpy as np\n",
    "from neo4j import GraphDatabase\n",
    "from raw_generation_nosplit import ArtGraphNoSplit\n",
    "from raw_generation import ArtGraphWithSplit\n",
    "import os"
   ]
  },
  {
   "cell_type": "code",
   "execution_count": 2,
   "outputs": [],
   "source": [
    "conf = {\n",
    "    \"uri\": \"bolt://localhost:7687\",\n",
    "    \"username\": \"neo4j\",\n",
    "    \"password\": 'neo4j',\n",
    "    \"database\": \"neo4j\"\n",
    "}"
   ],
   "metadata": {
    "collapsed": false
   }
  },
  {
   "cell_type": "code",
   "execution_count": 3,
   "outputs": [],
   "source": [
    "driver = GraphDatabase.driver(uri = \"bolt://localhost:7687\", auth = (conf['username'], conf['password']))#place here credentials"
   ],
   "metadata": {
    "collapsed": false
   }
  },
  {
   "cell_type": "code",
   "execution_count": 4,
   "outputs": [
    {
     "data": {
      "text/plain": "{'genre': 'MATCH (n:Genre) RETURN n.name as name',\n 'style': 'MATCH (n:Style) RETURN n.name as name',\n 'artist': 'MATCH (n:Artist) RETURN n.name as name',\n 'media': 'MATCH (n:Media) RETURN n.name as name',\n 'tag': 'MATCH (n:Tag) RETURN n.name as name',\n 'artwork': 'MATCH (n:Artwork) RETURN n.name as name',\n 'movement': 'MATCH (n:Movement) RETURN n.name as name',\n 'training': 'MATCH (n:Training) RETURN n.name as name',\n 'serie': 'MATCH (n:Serie) RETURN n.name as name',\n 'subject': 'MATCH (n:Subject) RETURN n.name as name',\n 'field': 'MATCH (n:Field) RETURN n.name as name',\n 'people': 'MATCH (n:People) RETURN n.name as name',\n 'period': 'MATCH (n:Period) RETURN n.name as name',\n 'gallery': 'MATCH (n:Gallery) RETURN n.name as name',\n 'city': 'MATCH (n:City) RETURN n.name as name',\n 'country': 'MATCH (n:Country) RETURN n.name as name',\n 'emotion': 'MATCH (n:Emotion) RETURN n.name as name',\n 'user': 'MATCH (n:User) RETURN n.name as name',\n 'rel': 'MATCH (n)-[r]-(n2) RETURN DISTINCT toLower(type(r)) as rel_label'}"
     },
     "execution_count": 4,
     "metadata": {},
     "output_type": "execute_result"
    }
   ],
   "source": [
    "with driver.session(database=conf['database']) as session:#place here the database name (not project name)\n",
    "    node_types = session.run(\"MATCH(n) RETURN  DISTINCT labels(n)[0] as typen\")#getting all node types\n",
    "    node_types = [record['typen'] for record in node_types]#extracting data into a list\n",
    "mapping_queries = {node.lower(): f\"MATCH (n:{node}) RETURN n.name as name\" for node in node_types}#generating queries for node types\n",
    "mapping_queries['rel'] = \"MATCH (n)-[r]-(n2) RETURN DISTINCT toLower(type(r)) as rel_label\"#generating queries for edge types\n",
    "mapping_queries"
   ],
   "metadata": {
    "collapsed": false
   }
  },
  {
   "cell_type": "code",
   "execution_count": 5,
   "outputs": [
    {
     "data": {
      "text/plain": "{'genre': 'MATCH (n:Genre) RETURN n.name, ID(n) as nodeId',\n 'style': 'MATCH (n:Style) RETURN n.name, ID(n) as nodeId',\n 'artist': 'MATCH (n:Artist) RETURN n.name, ID(n) as nodeId',\n 'media': 'MATCH (n:Media) RETURN n.name, ID(n) as nodeId',\n 'tag': 'MATCH (n:Tag) RETURN n.name, ID(n) as nodeId',\n 'artwork': 'MATCH (n:Artwork) RETURN n.name, ID(n) as nodeId',\n 'movement': 'MATCH (n:Movement) RETURN n.name, ID(n) as nodeId',\n 'training': 'MATCH (n:Training) RETURN n.name, ID(n) as nodeId',\n 'serie': 'MATCH (n:Serie) RETURN n.name, ID(n) as nodeId',\n 'subject': 'MATCH (n:Subject) RETURN n.name, ID(n) as nodeId',\n 'field': 'MATCH (n:Field) RETURN n.name, ID(n) as nodeId',\n 'people': 'MATCH (n:People) RETURN n.name, ID(n) as nodeId',\n 'period': 'MATCH (n:Period) RETURN n.name, ID(n) as nodeId',\n 'gallery': 'MATCH (n:Gallery) RETURN n.name, ID(n) as nodeId',\n 'city': 'MATCH (n:City) RETURN n.name, ID(n) as nodeId',\n 'country': 'MATCH (n:Country) RETURN n.name, ID(n) as nodeId',\n 'emotion': 'MATCH (n:Emotion) RETURN n.name, ID(n) as nodeId',\n 'user': 'MATCH (n:User) RETURN n.name, ID(n) as nodeId'}"
     },
     "execution_count": 5,
     "metadata": {},
     "output_type": "execute_result"
    }
   ],
   "source": [
    "node_id_mapping_queries = {node.lower(): f\"MATCH (n:{node}) RETURN n.name, ID(n) as nodeId\" for node in node_types}\n",
    "node_id_mapping_queries"
   ],
   "metadata": {
    "collapsed": false
   }
  },
  {
   "cell_type": "code",
   "execution_count": 6,
   "outputs": [
    {
     "data": {
      "text/plain": "{\"('artist', 'belongstomovement', 'movement')\": 'MATCH (a:Artist)-[r:belongsToMovement]->(b:Movement) RETURN a.name as source_name, b.name as dest_name',\n \"('artist', 'hassubject', 'subject')\": 'MATCH (a:Artist)-[r:hasSubject]->(b:Subject) RETURN a.name as source_name, b.name as dest_name',\n \"('artist', 'relatedtoschool', 'training')\": 'MATCH (a:Artist)-[r:relatedToSchool]->(b:Training) RETURN a.name as source_name, b.name as dest_name',\n \"('artist', 'belongstofield', 'field')\": 'MATCH (a:Artist)-[r:belongsToField]->(b:Field) RETURN a.name as source_name, b.name as dest_name',\n \"('artist', 'trainedby', 'artist')\": 'MATCH (a:Artist)-[r:trainedBy]->(b:Artist) RETURN a.name as source_name, b.name as dest_name',\n \"('artist', 'haspatron', 'people')\": 'MATCH (a:Artist)-[r:hasPatron]->(b:People) RETURN a.name as source_name, b.name as dest_name',\n \"('artwork', 'madeof', 'media')\": 'MATCH (a:Artwork)-[r:madeOf]->(b:Media) RETURN a.name as source_name, b.name as dest_name',\n \"('artwork', 'about', 'tag')\": 'MATCH (a:Artwork)-[r:about]->(b:Tag) RETURN a.name as source_name, b.name as dest_name',\n \"('artwork', 'createdby', 'artist')\": 'MATCH (a:Artwork)-[r:createdBy]->(b:Artist) RETURN a.name as source_name, b.name as dest_name',\n \"('artwork', 'partof', 'serie')\": 'MATCH (a:Artwork)-[r:partOf]->(b:Serie) RETURN a.name as source_name, b.name as dest_name',\n \"('artwork', 'hasstyle', 'style')\": 'MATCH (a:Artwork)-[r:hasStyle]->(b:Style) RETURN a.name as source_name, b.name as dest_name',\n \"('artwork', 'hasgenre', 'genre')\": 'MATCH (a:Artwork)-[r:hasGenre]->(b:Genre) RETURN a.name as source_name, b.name as dest_name',\n \"('artwork', 'locatedin', 'city')\": 'MATCH (a:Artwork)-[r:locatedIn]->(b:City) RETURN a.name as source_name, b.name as dest_name',\n \"('artwork', 'locatedin', 'country')\": 'MATCH (a:Artwork)-[r:locatedIn]->(b:Country) RETURN a.name as source_name, b.name as dest_name',\n \"('artwork', 'locatedin', 'gallery')\": 'MATCH (a:Artwork)-[r:locatedIn]->(b:Gallery) RETURN a.name as source_name, b.name as dest_name',\n \"('artwork', 'elicits', 'emotion')\": 'MATCH (a:Artwork)-[r:elicits]->(b:Emotion) RETURN a.name as source_name, b.name as dest_name',\n \"('artwork', 'hasperiod', 'period')\": 'MATCH (a:Artwork)-[r:hasPeriod]->(b:Period) RETURN a.name as source_name, b.name as dest_name',\n \"('gallery', 'incountry', 'country')\": 'MATCH (a:Gallery)-[r:inCountry]->(b:Country) RETURN a.name as source_name, b.name as dest_name',\n \"('gallery', 'incity', 'city')\": 'MATCH (a:Gallery)-[r:inCity]->(b:City) RETURN a.name as source_name, b.name as dest_name',\n \"('city', 'incountry', 'country')\": 'MATCH (a:City)-[r:inCountry]->(b:Country) RETURN a.name as source_name, b.name as dest_name',\n \"('user', 'rates', 'artwork')\": 'MATCH (a:User)-[r:rates]->(b:Artwork) RETURN a.name as source_name, b.name as dest_name'}"
     },
     "execution_count": 6,
     "metadata": {},
     "output_type": "execute_result"
    }
   ],
   "source": [
    "with driver.session(database=conf['database']) as session:\n",
    "    triplets = session.run(\"MATCH p=(a)-[r]->(b) RETURN DISTINCT labels(a)[0] as source, type(r) as relation,  labels(b)[0] as destination\")\n",
    "    triplets = [(t['source'], t['relation'], t['destination']) for t in triplets]\n",
    "relation_queries = {str(tuple(map(lambda x:x.lower(),t))): f\"MATCH (a:{t[0]})-[r:{t[1]}]->(b:{t[2]}) RETURN a.name as source_name, b.name as dest_name\"\n",
    "                    for t in triplets}\n",
    "relation_queries"
   ],
   "metadata": {
    "collapsed": false
   }
  },
  {
   "cell_type": "code",
   "execution_count": 7,
   "outputs": [
    {
     "data": {
      "text/plain": "{\"('artist', 'belongstomovement', 'movement')\": 'MATCH (a:Artist)-[r:belongsToMovement]->(b:Movement) RETURN a.name as source_name, b.name as dest_name',\n \"('artist', 'hassubject', 'subject')\": 'MATCH (a:Artist)-[r:hasSubject]->(b:Subject) RETURN a.name as source_name, b.name as dest_name',\n \"('artist', 'relatedtoschool', 'training')\": 'MATCH (a:Artist)-[r:relatedToSchool]->(b:Training) RETURN a.name as source_name, b.name as dest_name',\n \"('artist', 'belongstofield', 'field')\": 'MATCH (a:Artist)-[r:belongsToField]->(b:Field) RETURN a.name as source_name, b.name as dest_name',\n \"('artist', 'trainedby', 'artist')\": 'MATCH (a:Artist)-[r:trainedBy]->(b:Artist) RETURN a.name as source_name, b.name as dest_name',\n \"('artist', 'haspatron', 'people')\": 'MATCH (a:Artist)-[r:hasPatron]->(b:People) RETURN a.name as source_name, b.name as dest_name',\n \"('artwork', 'madeof', 'media')\": 'MATCH (a:Artwork)-[r:madeOf]->(b:Media) RETURN a.name as source_name, b.name as dest_name',\n \"('artwork', 'about', 'tag')\": 'MATCH (a:Artwork)-[r:about]->(b:Tag) RETURN a.name as source_name, b.name as dest_name',\n \"('artwork', 'createdby', 'artist')\": 'MATCH (a:Artwork)-[r:createdBy]->(b:Artist) RETURN a.name as source_name, b.name as dest_name',\n \"('artwork', 'partof', 'serie')\": 'MATCH (a:Artwork)-[r:partOf]->(b:Serie) RETURN a.name as source_name, b.name as dest_name',\n \"('artwork', 'hasstyle', 'style')\": 'MATCH (a:Artwork)-[r:hasStyle]->(b:Style) RETURN a.name as source_name, b.name as dest_name',\n \"('artwork', 'hasgenre', 'genre')\": 'MATCH (a:Artwork)-[r:hasGenre]->(b:Genre) RETURN a.name as source_name, b.name as dest_name',\n \"('artwork', 'locatedin', 'city')\": 'MATCH (a:Artwork)-[r:locatedIn]->(b:City) RETURN a.name as source_name, b.name as dest_name',\n \"('artwork', 'locatedin', 'country')\": 'MATCH (a:Artwork)-[r:locatedIn]->(b:Country) RETURN a.name as source_name, b.name as dest_name',\n \"('artwork', 'locatedin', 'gallery')\": 'MATCH (a:Artwork)-[r:locatedIn]->(b:Gallery) RETURN a.name as source_name, b.name as dest_name',\n \"('artwork', 'elicits', 'emotion')\": '\\nmatch(a:Artwork)-[r]-(e:Emotion)\\nwith a, sum(r.arousal) as sum_arousal, e\\nwith a, max(sum_arousal) as max_arousal\\nmatch(a)-[r2]-(e2:Emotion)\\nwith a, sum(r2.arousal) as sum2, e2, max_arousal\\nwhere sum2 = max_arousal\\nreturn a.name as source_name, collect(e2.name)[0] as dest_name\\n',\n \"('artwork', 'hasperiod', 'period')\": 'MATCH (a:Artwork)-[r:hasPeriod]->(b:Period) RETURN a.name as source_name, b.name as dest_name',\n \"('gallery', 'incountry', 'country')\": 'MATCH (a:Gallery)-[r:inCountry]->(b:Country) RETURN a.name as source_name, b.name as dest_name',\n \"('gallery', 'incity', 'city')\": 'MATCH (a:Gallery)-[r:inCity]->(b:City) RETURN a.name as source_name, b.name as dest_name',\n \"('city', 'incountry', 'country')\": 'MATCH (a:City)-[r:inCountry]->(b:Country) RETURN a.name as source_name, b.name as dest_name',\n \"('user', 'rates', 'artwork')\": 'MATCH (a:User)-[r:rates]->(b:Artwork) RETURN a.name as source_name, b.name as dest_name'}"
     },
     "execution_count": 7,
     "metadata": {},
     "output_type": "execute_result"
    }
   ],
   "source": [
    "#here is the change\n",
    "relation_queries[\"('artwork', 'elicits', 'emotion')\"] = \"\"\"\n",
    "match(a:Artwork)-[r]-(e:Emotion)\n",
    "with a, sum(r.arousal) as sum_arousal, e\n",
    "with a, max(sum_arousal) as max_arousal\n",
    "match(a)-[r2]-(e2:Emotion)\n",
    "with a, sum(r2.arousal) as sum2, e2, max_arousal\n",
    "where sum2 = max_arousal\n",
    "return a.name as source_name, collect(e2.name)[0] as dest_name\n",
    "\"\"\"\n",
    "relation_queries"
   ],
   "metadata": {
    "collapsed": false
   }
  },
  {
   "cell_type": "code",
   "execution_count": 8,
   "outputs": [],
   "source": [
    "# here is the second change, in order to query also the weights\n",
    "\n",
    "relation_queries[\"('user', 'rates', 'artwork')\"] = 'MATCH (a:User)-[r:rates]->(b:Artwork) RETURN a.name as source_name, b.name as dest_name, r.rating as weight'"
   ],
   "metadata": {
    "collapsed": false
   }
  },
  {
   "cell_type": "code",
   "execution_count": 9,
   "outputs": [],
   "source": [
    "stat_queries = {\n",
    "\"node_labels_stats\" : \"MATCH (n) RETURN distinct labels(n) as node_label, count(*) as count\",\n",
    "\"rel_labels_stats\" : \"MATCH (n)-[r]->(n2) RETURN distinct type(r) as rel_label, count(*) as count\",\n",
    "\"triplet-type-list\" : \"MATCH (x)-[r]->(y) RETURN distinct HEAD(labels(x)) as head, type(r), head(labels(y)) as tail\"\n",
    "}"
   ],
   "metadata": {
    "collapsed": false
   }
  },
  {
   "cell_type": "code",
   "execution_count": 10,
   "outputs": [],
   "source": [
    "queries = {\n",
    "    'mapping': mapping_queries,\n",
    "    'relations': relation_queries,\n",
    "    'stats': stat_queries\n",
    "}"
   ],
   "metadata": {
    "collapsed": false
   }
  },
  {
   "cell_type": "code",
   "execution_count": 11,
   "outputs": [],
   "source": [
    "split_paths = {\n",
    "  'train': os.path.join(\"split\", \"train.csv\"),\n",
    "  'valid':os.path.join(\"split\", \"valid.csv\"),\n",
    "  'test':os.path.join(\"split\", \"test.csv\")\n",
    "}"
   ],
   "metadata": {
    "collapsed": false
   }
  },
  {
   "cell_type": "code",
   "execution_count": 12,
   "outputs": [
    {
     "name": "stdout",
     "output_type": "stream",
     "text": [
      "Getting mapping...\n",
      "Getting split...\n",
      "Getting relations...\n"
     ]
    },
    {
     "name": "stderr",
     "output_type": "stream",
     "text": [
      "INFO:root:Saving on the disk all nodes\n",
      "INFO:root:Saving on the disk node mapping genre in path artgraph2recsys\\mapping\\genre_entidx2name.csv\n",
      "INFO:root:Saving on the disk node mapping style in path artgraph2recsys\\mapping\\style_entidx2name.csv\n",
      "INFO:root:Saving on the disk node mapping artist in path artgraph2recsys\\mapping\\artist_entidx2name.csv\n",
      "INFO:root:Saving on the disk node mapping media in path artgraph2recsys\\mapping\\media_entidx2name.csv\n"
     ]
    },
    {
     "name": "stdout",
     "output_type": "stream",
     "text": [
      "Getting labels\n",
      "Writing mapping...\n"
     ]
    },
    {
     "name": "stderr",
     "output_type": "stream",
     "text": [
      "INFO:root:Saving on the disk node mapping tag in path artgraph2recsys\\mapping\\tag_entidx2name.csv\n",
      "INFO:root:Saving on the disk node mapping artwork in path artgraph2recsys\\mapping\\artwork_entidx2name.csv\n",
      "INFO:root:Saving on the disk node mapping movement in path artgraph2recsys\\mapping\\movement_entidx2name.csv\n",
      "INFO:root:Saving on the disk node mapping training in path artgraph2recsys\\mapping\\training_entidx2name.csv\n",
      "INFO:root:Saving on the disk node mapping serie in path artgraph2recsys\\mapping\\serie_entidx2name.csv\n",
      "INFO:root:Saving on the disk node mapping subject in path artgraph2recsys\\mapping\\subject_entidx2name.csv\n",
      "INFO:root:Saving on the disk node mapping field in path artgraph2recsys\\mapping\\field_entidx2name.csv\n",
      "INFO:root:Saving on the disk node mapping people in path artgraph2recsys\\mapping\\people_entidx2name.csv\n",
      "INFO:root:Saving on the disk node mapping period in path artgraph2recsys\\mapping\\period_entidx2name.csv\n",
      "INFO:root:Saving on the disk node mapping gallery in path artgraph2recsys\\mapping\\gallery_entidx2name.csv\n",
      "INFO:root:Saving on the disk node mapping city in path artgraph2recsys\\mapping\\city_entidx2name.csv\n",
      "INFO:root:Saving on the disk node mapping country in path artgraph2recsys\\mapping\\country_entidx2name.csv\n",
      "INFO:root:Saving on the disk node mapping emotion in path artgraph2recsys\\mapping\\emotion_entidx2name.csv\n",
      "INFO:root:Saving on the disk node mapping user in path artgraph2recsys\\mapping\\user_entidx2name.csv\n",
      "INFO:root:Saving on the disk node mapping rel in path artgraph2recsys\\mapping\\rel_entidx2name.csv\n",
      "INFO:root:Saving on the disk all relations\n",
      "INFO:root:Saving on the disk relation belongstomovement in path artgraph2recsys\\raw\\relations\\artist___belongstomovement___movement\n",
      "INFO:root:Saving on the disk relation hassubject in path artgraph2recsys\\raw\\relations\\artist___hassubject___subject\n",
      "INFO:root:Saving on the disk relation relatedtoschool in path artgraph2recsys\\raw\\relations\\artist___relatedtoschool___training\n",
      "INFO:root:Saving on the disk relation belongstofield in path artgraph2recsys\\raw\\relations\\artist___belongstofield___field\n",
      "INFO:root:Saving on the disk relation trainedby in path artgraph2recsys\\raw\\relations\\artist___trainedby___artist\n",
      "INFO:root:Saving on the disk relation haspatron in path artgraph2recsys\\raw\\relations\\artist___haspatron___people\n",
      "INFO:root:Saving on the disk relation madeof in path artgraph2recsys\\raw\\relations\\artwork___madeof___media\n",
      "INFO:root:Saving on the disk relation about in path artgraph2recsys\\raw\\relations\\artwork___about___tag\n",
      "INFO:root:Saving on the disk relation createdby in path artgraph2recsys\\raw\\relations\\artwork___createdby___artist\n",
      "INFO:root:Saving on the disk relation partof in path artgraph2recsys\\raw\\relations\\artwork___partof___serie\n",
      "INFO:root:Saving on the disk relation hasstyle in path artgraph2recsys\\raw\\relations\\artwork___hasstyle___style\n",
      "INFO:root:Saving on the disk relation hasgenre in path artgraph2recsys\\raw\\relations\\artwork___hasgenre___genre\n",
      "INFO:root:Saving on the disk relation locatedin in path artgraph2recsys\\raw\\relations\\artwork___locatedin___city\n",
      "INFO:root:Saving on the disk relation locatedin in path artgraph2recsys\\raw\\relations\\artwork___locatedin___country\n",
      "INFO:root:Saving on the disk relation locatedin in path artgraph2recsys\\raw\\relations\\artwork___locatedin___gallery\n",
      "INFO:root:Saving on the disk relation elicits in path artgraph2recsys\\raw\\relations\\artwork___elicits___emotion\n",
      "INFO:root:Saving on the disk relation hasperiod in path artgraph2recsys\\raw\\relations\\artwork___hasperiod___period\n",
      "INFO:root:Saving on the disk relation incountry in path artgraph2recsys\\raw\\relations\\gallery___incountry___country\n",
      "INFO:root:Saving on the disk relation incity in path artgraph2recsys\\raw\\relations\\gallery___incity___city\n",
      "INFO:root:Saving on the disk relation incountry in path artgraph2recsys\\raw\\relations\\city___incountry___country\n",
      "INFO:root:Saving on the disk relation rates in path artgraph2recsys\\raw\\relations\\user___rates___artwork\n",
      "INFO:root:Saving on the disk node mapping train in path artgraph2recsys\\raw\\split\\artwork\\train.csv\n",
      "INFO:root:Saving on the disk node mapping test in path artgraph2recsys\\raw\\split\\artwork\\test.csv\n",
      "INFO:root:Saving on the disk node mapping valid in path artgraph2recsys\\raw\\split\\artwork\\valid.csv\n"
     ]
    },
    {
     "name": "stdout",
     "output_type": "stream",
     "text": [
      "Writing labels...\n",
      "Writing info...\n",
      "Writing split...\n"
     ]
    }
   ],
   "source": [
    "artgraph = ArtGraphWithSplit(root='artgraph2recsys', conf=conf, queries=queries, split_paths=split_paths)\n",
    "artgraph.build()\n",
    "artgraph.write()"
   ],
   "metadata": {
    "collapsed": false
   }
  },
  {
   "cell_type": "code",
   "execution_count": 14,
   "outputs": [
    {
     "data": {
      "text/plain": "           0  1\n0      41688  0\n1       3455  2\n2      34851  2\n3      31840  1\n4       9086  1\n...      ... ..\n65231   5333  8\n65232  58425  8\n65233  64208  8\n65234  45083  8\n65235  69392  8\n\n[65236 rows x 2 columns]",
      "text/html": "<div>\n<style scoped>\n    .dataframe tbody tr th:only-of-type {\n        vertical-align: middle;\n    }\n\n    .dataframe tbody tr th {\n        vertical-align: top;\n    }\n\n    .dataframe thead th {\n        text-align: right;\n    }\n</style>\n<table border=\"1\" class=\"dataframe\">\n  <thead>\n    <tr style=\"text-align: right;\">\n      <th></th>\n      <th>0</th>\n      <th>1</th>\n    </tr>\n  </thead>\n  <tbody>\n    <tr>\n      <th>0</th>\n      <td>41688</td>\n      <td>0</td>\n    </tr>\n    <tr>\n      <th>1</th>\n      <td>3455</td>\n      <td>2</td>\n    </tr>\n    <tr>\n      <th>2</th>\n      <td>34851</td>\n      <td>2</td>\n    </tr>\n    <tr>\n      <th>3</th>\n      <td>31840</td>\n      <td>1</td>\n    </tr>\n    <tr>\n      <th>4</th>\n      <td>9086</td>\n      <td>1</td>\n    </tr>\n    <tr>\n      <th>...</th>\n      <td>...</td>\n      <td>...</td>\n    </tr>\n    <tr>\n      <th>65231</th>\n      <td>5333</td>\n      <td>8</td>\n    </tr>\n    <tr>\n      <th>65232</th>\n      <td>58425</td>\n      <td>8</td>\n    </tr>\n    <tr>\n      <th>65233</th>\n      <td>64208</td>\n      <td>8</td>\n    </tr>\n    <tr>\n      <th>65234</th>\n      <td>45083</td>\n      <td>8</td>\n    </tr>\n    <tr>\n      <th>65235</th>\n      <td>69392</td>\n      <td>8</td>\n    </tr>\n  </tbody>\n</table>\n<p>65236 rows × 2 columns</p>\n</div>"
     },
     "execution_count": 14,
     "metadata": {},
     "output_type": "execute_result"
    }
   ],
   "source": [
    "pd.read_csv('artgraph2recsys/raw/relations/artwork___elicits___emotion/edge.csv', index_col=None, header=None)"
   ],
   "metadata": {
    "collapsed": false
   }
  },
  {
   "cell_type": "code",
   "execution_count": 15,
   "outputs": [
    {
     "data": {
      "text/plain": "   0\n0  1\n1  1\n2  1\n3  1\n4  1\n5  1",
      "text/html": "<div>\n<style scoped>\n    .dataframe tbody tr th:only-of-type {\n        vertical-align: middle;\n    }\n\n    .dataframe tbody tr th {\n        vertical-align: top;\n    }\n\n    .dataframe thead th {\n        text-align: right;\n    }\n</style>\n<table border=\"1\" class=\"dataframe\">\n  <thead>\n    <tr style=\"text-align: right;\">\n      <th></th>\n      <th>0</th>\n    </tr>\n  </thead>\n  <tbody>\n    <tr>\n      <th>0</th>\n      <td>1</td>\n    </tr>\n    <tr>\n      <th>1</th>\n      <td>1</td>\n    </tr>\n    <tr>\n      <th>2</th>\n      <td>1</td>\n    </tr>\n    <tr>\n      <th>3</th>\n      <td>1</td>\n    </tr>\n    <tr>\n      <th>4</th>\n      <td>1</td>\n    </tr>\n    <tr>\n      <th>5</th>\n      <td>1</td>\n    </tr>\n  </tbody>\n</table>\n</div>"
     },
     "execution_count": 15,
     "metadata": {},
     "output_type": "execute_result"
    }
   ],
   "source": [
    "pd.read_csv('artgraph2recsys/raw/relations/user___rates___artwork/attributes.csv', index_col=None, header=None)"
   ],
   "metadata": {
    "collapsed": false
   }
  },
  {
   "cell_type": "code",
   "execution_count": null,
   "outputs": [],
   "source": [],
   "metadata": {
    "collapsed": false
   }
  }
 ],
 "metadata": {
  "kernelspec": {
   "display_name": "Python 3",
   "language": "python",
   "name": "python3"
  },
  "language_info": {
   "codemirror_mode": {
    "name": "ipython",
    "version": 2
   },
   "file_extension": ".py",
   "mimetype": "text/x-python",
   "name": "python",
   "nbconvert_exporter": "python",
   "pygments_lexer": "ipython2",
   "version": "2.7.6"
  }
 },
 "nbformat": 4,
 "nbformat_minor": 0
}
